{
 "metadata": {
  "name": "",
  "signature": "sha256:7475a0548855c875376afdbce61968ca59cbadbe40518b1fef304413c3d0a5e2"
 },
 "nbformat": 3,
 "nbformat_minor": 0,
 "worksheets": [
  {
   "cells": [
    {
     "cell_type": "markdown",
     "metadata": {},
     "source": [
      "# Data stream\n",
      "\n",
      "## Stocastic Averaging"
     ]
    },
    {
     "cell_type": "markdown",
     "metadata": {},
     "source": [
      "Hash function\n",
      "1. determinism\n",
      "2. uniformity\n",
      "3. sensitvie to small data changes"
     ]
    },
    {
     "cell_type": "code",
     "collapsed": false,
     "input": [
      "!diff largefile largefile2"
     ],
     "language": "python",
     "metadata": {},
     "outputs": [
      {
       "output_type": "stream",
       "stream": "stdout",
       "text": [
        "1c1,2\r\n",
        "<    [1]Open Source Shakespeare\r\n",
        "---\r\n",
        "> hello world  \r\n",
        ">  [1]Open Source Shakespeare\r\n"
       ]
      }
     ],
     "prompt_number": 1
    },
    {
     "cell_type": "code",
     "collapsed": false,
     "input": [
      "!sha1sum largefile"
     ],
     "language": "python",
     "metadata": {},
     "outputs": [
      {
       "output_type": "stream",
       "stream": "stdout",
       "text": [
        "57d75083bb066c6e8be15f466119a85b1f3d1979  largefile\r\n"
       ]
      }
     ],
     "prompt_number": 2
    },
    {
     "cell_type": "code",
     "collapsed": false,
     "input": [
      "!sha1sum largefile2"
     ],
     "language": "python",
     "metadata": {},
     "outputs": [
      {
       "output_type": "stream",
       "stream": "stdout",
       "text": [
        "e94ac1f743e7151efc023ce49760d9e20768bae4  largefile2\r\n"
       ]
      }
     ],
     "prompt_number": 3
    },
    {
     "cell_type": "markdown",
     "metadata": {},
     "source": [
      "## multiple hash functions\n",
      "\n",
      "1. average\n",
      "2. median\n",
      "3. [median of average](https://course.ie.cuhk.edu.hk/~engg4030/tutorial/tutorial7/AverageMedianTheorem.pdf)"
     ]
    }
   ],
   "metadata": {}
  }
 ]
}
