{
 "metadata": {
  "name": "",
  "signature": "sha256:ef1a3fae6be9bad2e460d24a0fcde080d7c5a1958f020f0e5c46ce92210d2913"
 },
 "nbformat": 3,
 "nbformat_minor": 0,
 "worksheets": [
  {
   "cells": [
    {
     "cell_type": "markdown",
     "metadata": {},
     "source": [
      "# Hadoop Bindings in Python\n",
      "\n",
      "TOC:\n",
      "\n",
      "   * IPython and shell integration\n",
      "   * Operate Hadoop from IPython Notebook\n",
      "   * One Python binding for Hadoop: https://github.com/Yelp/mrjob\n",
      "   * Review of HW1 in the unified environment of IPython Notebook\n",
      "\n",
      "## Preparation\n",
      "\n",
      "Setup your Hadoop PATHs.\n",
      "Put the following in your `~/.bashrc` file.\n",
      "Those environment variables will be setup every time you login.\n",
      "\n",
      "```\n",
      "export HADOOP_PREFIX=/home/azureuser/hadoop\n",
      "export HADOOP_HOME=/home/azureuser/hadoop\n",
      "export JAVA_HOME=/usr/lib/jvm/java-6-openjdk-amd64\n",
      "export PATH=$PATH:$HADOOP_PREFIX/bin\n",
      "export HADOOP_CONF_DIR=$HADOOP_PREFIX/conf\n",
      "```\n",
      "\n",
      "If your installation is not following [tutorial2](https://course.ie.cuhk.edu.hk/~engg4030/tutorial/tutorial2/), \n",
      "be sure to change accordingly.\n",
      "Note, although `HADOOP_HOME` is deprecated in newer Hadoop versions, `mrjob` relies on this variable.\n",
      "So we still set it here.\n",
      "\n",
      "Install `mrjob`\n",
      "\n",
      "```\n",
      "pip install --user mrjob \n",
      "```\n"
     ]
    },
    {
     "cell_type": "markdown",
     "metadata": {},
     "source": [
      "## Shell in IPython\n",
      "\n",
      "The real magic of IPython's shell command integration is the ability to pass Python variables as input and collect output in Python variables."
     ]
    },
    {
     "cell_type": "code",
     "collapsed": false,
     "input": [
      "# Current folder\n",
      "!pwd"
     ],
     "language": "python",
     "metadata": {},
     "outputs": [
      {
       "output_type": "stream",
       "stream": "stdout",
       "text": [
        "/home/azureuser\r\n"
       ]
      }
     ],
     "prompt_number": 1
    },
    {
     "cell_type": "code",
     "collapsed": false,
     "input": [
      "# List files\n",
      "!ls"
     ],
     "language": "python",
     "metadata": {},
     "outputs": [
      {
       "output_type": "stream",
       "stream": "stdout",
       "text": [
        "data\t\t     hadooptmp\tPython-Hadoop.ipynb  wordcount_classes\r\n",
        "hadoop\t\t     largefile\treducer.py\t     wordcount.jar\r\n",
        "hadoop-1.0.3.tar.gz  mapper.py\tShakespeare.tar.gz   WordCount.java\r\n"
       ]
      }
     ],
     "prompt_number": 2
    },
    {
     "cell_type": "code",
     "collapsed": false,
     "input": [
      "# Collect shell command result in python variable\n",
      "files = !ls -1\n",
      "print len(files)\n",
      "# Use them in the Python style\n",
      "print files[0:3]"
     ],
     "language": "python",
     "metadata": {},
     "outputs": [
      {
       "output_type": "stream",
       "stream": "stdout",
       "text": [
        "12\n",
        "['data', 'hadoop', 'hadoop-1.0.3.tar.gz']\n"
       ]
      }
     ],
     "prompt_number": 3
    },
    {
     "cell_type": "code",
     "collapsed": false,
     "input": [
      "# Pass python variables to shell commands\n",
      "first_file = files[0]\n",
      "!ls -l $first_file"
     ],
     "language": "python",
     "metadata": {},
     "outputs": [
      {
       "output_type": "stream",
       "stream": "stdout",
       "text": [
        "total 6824\r\n",
        "-rw-rw---- 1 azureuser azureuser 141248 Sep 20  2012 play-12night.txt\r\n",
        "-rw-rw---- 1 azureuser azureuser 164154 Sep 20  2012 play-allswell.txt\r\n",
        "-rw-rw---- 1 azureuser azureuser 193944 Sep 20  2012 play-antonycleo.txt\r\n",
        "-rw-rw---- 1 azureuser azureuser 149978 Sep 20  2012 play-asyoulikeit.txt\r\n",
        "-rw-rw---- 1 azureuser azureuser 106757 Sep 20  2012 play-comedyerrors.txt\r\n",
        "-rw-rw---- 1 azureuser azureuser 207491 Sep 20  2012 play-coriolanus.txt\r\n",
        "-rw-rw---- 1 azureuser azureuser 199342 Sep 20  2012 play-cymbeline.txt\r\n",
        "-rw-rw---- 1 azureuser azureuser 216160 Sep 20  2012 play-hamlet.txt\r\n",
        "-rw-rw---- 1 azureuser azureuser 173445 Sep 20  2012 play-henry4p1.txt\r\n",
        "-rw-rw---- 1 azureuser azureuser 183449 Sep 20  2012 play-henry4p2.txt\r\n",
        "-rw-rw---- 1 azureuser azureuser 187193 Sep 20  2012 play-henry5.txt\r\n",
        "-rw-rw---- 1 azureuser azureuser 167137 Sep 20  2012 play-henry6p1.txt\r\n",
        "-rw-rw---- 1 azureuser azureuser 187263 Sep 20  2012 play-henry6p2.txt\r\n",
        "-rw-rw---- 1 azureuser azureuser 184858 Sep 20  2012 play-henry6p3.txt\r\n",
        "-rw-rw---- 1 azureuser azureuser 177991 Sep 20  2012 play-henry8.txt\r\n",
        "-rw-rw---- 1 azureuser azureuser 141425 Sep 20  2012 play-juliuscaesar.txt\r\n",
        "-rw-rw---- 1 azureuser azureuser 147219 Sep 20  2012 play-kingjohn.txt\r\n",
        "-rw-rw---- 1 azureuser azureuser 191623 Sep 20  2012 play-kinglear.txt\r\n",
        "-rw-rw---- 1 azureuser azureuser 154825 Sep 20  2012 play-loveslabours.txt\r\n",
        "-rw-rw---- 1 azureuser azureuser 130106 Sep 20  2012 play-macbeth.txt\r\n",
        "-rw-rw---- 1 azureuser azureuser 154966 Sep 20  2012 play-measure.txt\r\n",
        "-rw-rw---- 1 azureuser azureuser 147513 Sep 20  2012 play-merchantvenice.txt\r\n",
        "-rw-rw---- 1 azureuser azureuser 158544 Sep 20  2012 play-merrywives.txt\r\n",
        "-rw-rw---- 1 azureuser azureuser 114608 Sep 20  2012 play-midsummer.txt\r\n",
        "-rw-rw---- 1 azureuser azureuser 147403 Sep 20  2012 play-muchado.txt\r\n",
        "-rw-rw---- 1 azureuser azureuser 186767 Sep 20  2012 play-othello.txt\r\n",
        "-rw-rw---- 1 azureuser azureuser 136300 Sep 20  2012 play-pericles.txt\r\n",
        "-rw-rw---- 1 azureuser azureuser 160070 Sep 20  2012 play-richard2.txt\r\n",
        "-rw-rw---- 1 azureuser azureuser 219560 Sep 20  2012 play-richard3.txt\r\n",
        "-rw-rw---- 1 azureuser azureuser 174008 Sep 20  2012 play-romeojuliet.txt\r\n",
        "-rw-rw---- 1 azureuser azureuser 148077 Sep 20  2012 play-tamingshrew.txt\r\n",
        "-rw-rw---- 1 azureuser azureuser 118761 Sep 20  2012 play-tempest.txt\r\n",
        "-rw-rw---- 1 azureuser azureuser 134102 Sep 20  2012 play-timonathens.txt\r\n",
        "-rw-rw---- 1 azureuser azureuser 146589 Sep 20  2012 play-titus.txt\r\n",
        "-rw-rw---- 1 azureuser azureuser 191516 Sep 20  2012 play-troilus.txt\r\n",
        "-rw-rw---- 1 azureuser azureuser 124318 Sep 20  2012 play-twogents.txt\r\n",
        "-rw-rw---- 1 azureuser azureuser 173741 Sep 20  2012 play-winterstale.txt\r\n",
        "-rw-rw---- 1 azureuser azureuser  20404 Sep 20  2012 poem-loverscomplaint.txt\r\n",
        "-rw-rw---- 1 azureuser azureuser  27336 Sep 20  2012 poem-passionatepilgrim.txt\r\n",
        "-rw-rw---- 1 azureuser azureuser   3956 Sep 20  2012 poem-phoenixturtle.txt\r\n",
        "-rw-rw---- 1 azureuser azureuser 117684 Sep 20  2012 poem-rapelucrece.txt\r\n",
        "-rw-rw---- 1 azureuser azureuser  75338 Sep 20  2012 poem-venusadonis.txt\r\n",
        "-rw-rw---- 1 azureuser azureuser   1128 Sep 20  2012 sonnet-100.txt\r\n",
        "-rw-rw---- 1 azureuser azureuser   1112 Sep 20  2012 sonnet-101.txt\r\n",
        "-rw-rw---- 1 azureuser azureuser   1135 Sep 20  2012 sonnet-102.txt\r\n",
        "-rw-rw---- 1 azureuser azureuser   1115 Sep 20  2012 sonnet-103.txt\r\n",
        "-rw-rw---- 1 azureuser azureuser   1139 Sep 20  2012 sonnet-104.txt\r\n",
        "-rw-rw---- 1 azureuser azureuser   1116 Sep 20  2012 sonnet-105.txt\r\n",
        "-rw-rw---- 1 azureuser azureuser   1116 Sep 20  2012 sonnet-106.txt\r\n",
        "-rw-rw---- 1 azureuser azureuser   1133 Sep 20  2012 sonnet-107.txt\r\n",
        "-rw-rw---- 1 azureuser azureuser   1124 Sep 20  2012 sonnet-108.txt\r\n",
        "-rw-rw---- 1 azureuser azureuser   1114 Sep 20  2012 sonnet-109.txt\r\n",
        "-rw-rw---- 1 azureuser azureuser   1128 Sep 20  2012 sonnet-10.txt\r\n",
        "-rw-rw---- 1 azureuser azureuser   1121 Sep 20  2012 sonnet-110.txt\r\n",
        "-rw-rw---- 1 azureuser azureuser   1115 Sep 20  2012 sonnet-111.txt\r\n",
        "-rw-rw---- 1 azureuser azureuser   1117 Sep 20  2012 sonnet-112.txt\r\n",
        "-rw-rw---- 1 azureuser azureuser   1123 Sep 20  2012 sonnet-113.txt\r\n",
        "-rw-rw---- 1 azureuser azureuser   1125 Sep 20  2012 sonnet-114.txt\r\n",
        "-rw-rw---- 1 azureuser azureuser   1138 Sep 20  2012 sonnet-115.txt\r\n",
        "-rw-rw---- 1 azureuser azureuser   1109 Sep 20  2012 sonnet-116.txt\r\n",
        "-rw-rw---- 1 azureuser azureuser   1116 Sep 20  2012 sonnet-117.txt\r\n",
        "-rw-rw---- 1 azureuser azureuser   1127 Sep 20  2012 sonnet-118.txt\r\n",
        "-rw-rw---- 1 azureuser azureuser   1126 Sep 20  2012 sonnet-119.txt\r\n",
        "-rw-rw---- 1 azureuser azureuser   1153 Sep 20  2012 sonnet-11.txt\r\n",
        "-rw-rw---- 1 azureuser azureuser   1124 Sep 20  2012 sonnet-120.txt\r\n",
        "-rw-rw---- 1 azureuser azureuser   1126 Sep 20  2012 sonnet-121.txt\r\n",
        "-rw-rw---- 1 azureuser azureuser   1103 Sep 20  2012 sonnet-122.txt\r\n",
        "-rw-rw---- 1 azureuser azureuser   1119 Sep 20  2012 sonnet-123.txt\r\n",
        "-rw-rw---- 1 azureuser azureuser   1127 Sep 20  2012 sonnet-124.txt\r\n",
        "-rw-rw---- 1 azureuser azureuser   1112 Sep 20  2012 sonnet-125.txt\r\n",
        "-rw-rw---- 1 azureuser azureuser   1097 Sep 20  2012 sonnet-126.txt\r\n",
        "-rw-rw---- 1 azureuser azureuser   1128 Sep 20  2012 sonnet-127.txt\r\n",
        "-rw-rw---- 1 azureuser azureuser   1129 Sep 20  2012 sonnet-128.txt\r\n",
        "-rw-rw---- 1 azureuser azureuser   1115 Sep 20  2012 sonnet-129.txt\r\n",
        "-rw-rw---- 1 azureuser azureuser   1130 Sep 20  2012 sonnet-12.txt\r\n",
        "-rw-rw---- 1 azureuser azureuser   1124 Sep 20  2012 sonnet-130.txt\r\n",
        "-rw-rw---- 1 azureuser azureuser   1126 Sep 20  2012 sonnet-131.txt\r\n",
        "-rw-rw---- 1 azureuser azureuser   1118 Sep 20  2012 sonnet-132.txt\r\n",
        "-rw-rw---- 1 azureuser azureuser   1131 Sep 20  2012 sonnet-133.txt\r\n",
        "-rw-rw---- 1 azureuser azureuser   1114 Sep 20  2012 sonnet-134.txt\r\n",
        "-rw-rw---- 1 azureuser azureuser   1123 Sep 20  2012 sonnet-135.txt\r\n",
        "-rw-rw---- 1 azureuser azureuser   1133 Sep 20  2012 sonnet-136.txt\r\n",
        "-rw-rw---- 1 azureuser azureuser   1138 Sep 20  2012 sonnet-137.txt\r\n",
        "-rw-rw---- 1 azureuser azureuser   1130 Sep 20  2012 sonnet-138.txt\r\n",
        "-rw-rw---- 1 azureuser azureuser   1135 Sep 20  2012 sonnet-139.txt\r\n",
        "-rw-rw---- 1 azureuser azureuser   1120 Sep 20  2012 sonnet-13.txt\r\n",
        "-rw-rw---- 1 azureuser azureuser   1128 Sep 20  2012 sonnet-140.txt\r\n",
        "-rw-rw---- 1 azureuser azureuser   1126 Sep 20  2012 sonnet-141.txt\r\n",
        "-rw-rw---- 1 azureuser azureuser   1122 Sep 20  2012 sonnet-142.txt\r\n",
        "-rw-rw---- 1 azureuser azureuser   1134 Sep 20  2012 sonnet-143.txt\r\n",
        "-rw-rw---- 1 azureuser azureuser   1105 Sep 20  2012 sonnet-144.txt\r\n",
        "-rw-rw---- 1 azureuser azureuser   1073 Sep 20  2012 sonnet-145.txt\r\n",
        "-rw-rw---- 1 azureuser azureuser   1132 Sep 20  2012 sonnet-146.txt\r\n",
        "-rw-rw---- 1 azureuser azureuser   1116 Sep 20  2012 sonnet-147.txt\r\n",
        "-rw-rw---- 1 azureuser azureuser   1135 Sep 20  2012 sonnet-148.txt\r\n",
        "-rw-rw---- 1 azureuser azureuser   1108 Sep 20  2012 sonnet-149.txt\r\n",
        "-rw-rw---- 1 azureuser azureuser   1112 Sep 20  2012 sonnet-14.txt\r\n",
        "-rw-rw---- 1 azureuser azureuser   1121 Sep 20  2012 sonnet-150.txt\r\n",
        "-rw-rw---- 1 azureuser azureuser   1121 Sep 20  2012 sonnet-151.txt\r\n",
        "-rw-rw---- 1 azureuser azureuser   1134 Sep 20  2012 sonnet-152.txt\r\n",
        "-rw-rw---- 1 azureuser azureuser   1125 Sep 20  2012 sonnet-153.txt\r\n",
        "-rw-rw---- 1 azureuser azureuser   1116 Sep 20  2012 sonnet-154.txt\r\n",
        "-rw-rw---- 1 azureuser azureuser   1126 Sep 20  2012 sonnet-15.txt\r\n",
        "-rw-rw---- 1 azureuser azureuser   1118 Sep 20  2012 sonnet-16.txt\r\n",
        "-rw-rw---- 1 azureuser azureuser   1140 Sep 20  2012 sonnet-17.txt\r\n",
        "-rw-rw---- 1 azureuser azureuser   1130 Sep 20  2012 sonnet-18.txt\r\n",
        "-rw-rw---- 1 azureuser azureuser   1134 Sep 20  2012 sonnet-19.txt\r\n",
        "-rw-rw---- 1 azureuser azureuser   1122 Sep 20  2012 sonnet-1.txt\r\n",
        "-rw-rw---- 1 azureuser azureuser   1143 Sep 20  2012 sonnet-20.txt\r\n",
        "-rw-rw---- 1 azureuser azureuser   1123 Sep 20  2012 sonnet-21.txt\r\n",
        "-rw-rw---- 1 azureuser azureuser   1117 Sep 20  2012 sonnet-22.txt\r\n",
        "-rw-rw---- 1 azureuser azureuser   1126 Sep 20  2012 sonnet-23.txt\r\n",
        "-rw-rw---- 1 azureuser azureuser   1139 Sep 20  2012 sonnet-24.txt\r\n",
        "-rw-rw---- 1 azureuser azureuser   1111 Se"
       ]
      },
      {
       "output_type": "stream",
       "stream": "stdout",
       "text": [
        "p 20  2012 sonnet-25.txt\r\n",
        "-rw-rw---- 1 azureuser azureuser   1118 Sep 20  2012 sonnet-26.txt\r\n",
        "-rw-rw---- 1 azureuser azureuser   1113 Sep 20  2012 sonnet-27.txt\r\n",
        "-rw-rw---- 1 azureuser azureuser   1137 Sep 20  2012 sonnet-28.txt\r\n",
        "-rw-rw---- 1 azureuser azureuser   1133 Sep 20  2012 sonnet-29.txt\r\n",
        "-rw-rw---- 1 azureuser azureuser   1133 Sep 20  2012 sonnet-2.txt\r\n",
        "-rw-rw---- 1 azureuser azureuser   1123 Sep 20  2012 sonnet-30.txt\r\n",
        "-rw-rw---- 1 azureuser azureuser   1117 Sep 20  2012 sonnet-31.txt\r\n",
        "-rw-rw---- 1 azureuser azureuser   1135 Sep 20  2012 sonnet-32.txt\r\n",
        "-rw-rw---- 1 azureuser azureuser   1127 Sep 20  2012 sonnet-33.txt\r\n",
        "-rw-rw---- 1 azureuser azureuser   1135 Sep 20  2012 sonnet-34.txt\r\n",
        "-rw-rw---- 1 azureuser azureuser   1112 Sep 20  2012 sonnet-35.txt\r\n",
        "-rw-rw---- 1 azureuser azureuser   1117 Sep 20  2012 sonnet-36.txt\r\n",
        "-rw-rw---- 1 azureuser azureuser   1113 Sep 20  2012 sonnet-37.txt\r\n",
        "-rw-rw---- 1 azureuser azureuser   1129 Sep 20  2012 sonnet-38.txt\r\n",
        "-rw-rw---- 1 azureuser azureuser   1125 Sep 20  2012 sonnet-39.txt\r\n",
        "-rw-rw---- 1 azureuser azureuser   1123 Sep 20  2012 sonnet-3.txt\r\n",
        "-rw-rw---- 1 azureuser azureuser   1136 Sep 20  2012 sonnet-40.txt\r\n",
        "-rw-rw---- 1 azureuser azureuser   1120 Sep 20  2012 sonnet-41.txt\r\n",
        "-rw-rw---- 1 azureuser azureuser   1133 Sep 20  2012 sonnet-42.txt\r\n",
        "-rw-rw---- 1 azureuser azureuser   1140 Sep 20  2012 sonnet-43.txt\r\n",
        "-rw-rw---- 1 azureuser azureuser   1132 Sep 20  2012 sonnet-44.txt\r\n",
        "-rw-rw---- 1 azureuser azureuser   1115 Sep 20  2012 sonnet-45.txt\r\n",
        "-rw-rw---- 1 azureuser azureuser   1121 Sep 20  2012 sonnet-46.txt\r\n",
        "-rw-rw---- 1 azureuser azureuser   1130 Sep 20  2012 sonnet-47.txt\r\n",
        "-rw-rw---- 1 azureuser azureuser   1124 Sep 20  2012 sonnet-48.txt\r\n",
        "-rw-rw---- 1 azureuser azureuser   1121 Sep 20  2012 sonnet-49.txt\r\n",
        "-rw-rw---- 1 azureuser azureuser   1113 Sep 20  2012 sonnet-4.txt\r\n",
        "-rw-rw---- 1 azureuser azureuser   1117 Sep 20  2012 sonnet-50.txt\r\n",
        "-rw-rw---- 1 azureuser azureuser   1130 Sep 20  2012 sonnet-51.txt\r\n",
        "-rw-rw---- 1 azureuser azureuser   1121 Sep 20  2012 sonnet-52.txt\r\n",
        "-rw-rw---- 1 azureuser azureuser   1112 Sep 20  2012 sonnet-53.txt\r\n",
        "-rw-rw---- 1 azureuser azureuser   1127 Sep 20  2012 sonnet-54.txt\r\n",
        "-rw-rw---- 1 azureuser azureuser   1124 Sep 20  2012 sonnet-55.txt\r\n",
        "-rw-rw---- 1 azureuser azureuser   1129 Sep 20  2012 sonnet-56.txt\r\n",
        "-rw-rw---- 1 azureuser azureuser   1124 Sep 20  2012 sonnet-57.txt\r\n",
        "-rw-rw---- 1 azureuser azureuser   1123 Sep 20  2012 sonnet-58.txt\r\n",
        "-rw-rw---- 1 azureuser azureuser   1111 Sep 20  2012 sonnet-59.txt\r\n",
        "-rw-rw---- 1 azureuser azureuser   1127 Sep 20  2012 sonnet-5.txt\r\n",
        "-rw-rw---- 1 azureuser azureuser   1124 Sep 20  2012 sonnet-60.txt\r\n",
        "-rw-rw---- 1 azureuser azureuser   1117 Sep 20  2012 sonnet-61.txt\r\n",
        "-rw-rw---- 1 azureuser azureuser   1102 Sep 20  2012 sonnet-62.txt\r\n",
        "-rw-rw---- 1 azureuser azureuser   1126 Sep 20  2012 sonnet-63.txt\r\n",
        "-rw-rw---- 1 azureuser azureuser   1118 Sep 20  2012 sonnet-64.txt\r\n",
        "-rw-rw---- 1 azureuser azureuser   1133 Sep 20  2012 sonnet-65.txt\r\n",
        "-rw-rw---- 1 azureuser azureuser   1103 Sep 20  2012 sonnet-66.txt\r\n",
        "-rw-rw---- 1 azureuser azureuser   1113 Sep 20  2012 sonnet-67.txt\r\n",
        "-rw-rw---- 1 azureuser azureuser   1107 Sep 20  2012 sonnet-68.txt\r\n",
        "-rw-rw---- 1 azureuser azureuser   1152 Sep 20  2012 sonnet-69.txt\r\n",
        "-rw-rw---- 1 azureuser azureuser   1122 Sep 20  2012 sonnet-6.txt\r\n",
        "-rw-rw---- 1 azureuser azureuser   1123 Sep 20  2012 sonnet-70.txt\r\n",
        "-rw-rw---- 1 azureuser azureuser   1114 Sep 20  2012 sonnet-71.txt\r\n",
        "-rw-rw---- 1 azureuser azureuser   1119 Sep 20  2012 sonnet-72.txt\r\n",
        "-rw-rw---- 1 azureuser azureuser   1139 Sep 20  2012 sonnet-73.txt\r\n",
        "-rw-rw---- 1 azureuser azureuser   1114 Sep 20  2012 sonnet-74.txt\r\n",
        "-rw-rw---- 1 azureuser azureuser   1114 Sep 20  2012 sonnet-75.txt\r\n",
        "-rw-rw---- 1 azureuser azureuser   1109 Sep 20  2012 sonnet-76.txt\r\n",
        "-rw-rw---- 1 azureuser azureuser   1128 Sep 20  2012 sonnet-77.txt\r\n",
        "-rw-rw---- 1 azureuser azureuser   1103 Sep 20  2012 sonnet-78.txt\r\n",
        "-rw-rw---- 1 azureuser azureuser   1113 Sep 20  2012 sonnet-79.txt\r\n",
        "-rw-rw---- 1 azureuser azureuser   1110 Sep 20  2012 sonnet-7.txt\r\n",
        "-rw-rw---- 1 azureuser azureuser   1115 Sep 20  2012 sonnet-80.txt\r\n",
        "-rw-rw---- 1 azureuser azureuser   1133 Sep 20  2012 sonnet-81.txt\r\n",
        "-rw-rw---- 1 azureuser azureuser   1122 Sep 20  2012 sonnet-82.txt\r\n",
        "-rw-rw---- 1 azureuser azureuser   1121 Sep 20  2012 sonnet-83.txt\r\n",
        "-rw-rw---- 1 azureuser azureuser   1124 Sep 20  2012 sonnet-84.txt\r\n",
        "-rw-rw---- 1 azureuser azureuser   1138 Sep 20  2012 sonnet-85.txt\r\n",
        "-rw-rw---- 1 azureuser azureuser   1121 Sep 20  2012 sonnet-86.txt\r\n",
        "-rw-rw---- 1 azureuser azureuser   1134 Sep 20  2012 sonnet-87.txt\r\n",
        "-rw-rw---- 1 azureuser azureuser   1115 Sep 20  2012 sonnet-88.txt\r\n",
        "-rw-rw---- 1 azureuser azureuser   1121 Sep 20  2012 sonnet-89.txt\r\n",
        "-rw-rw---- 1 azureuser azureuser   1141 Sep 20  2012 sonnet-8.txt\r\n",
        "-rw-rw---- 1 azureuser azureuser   1123 Sep 20  2012 sonnet-90.txt\r\n",
        "-rw-rw---- 1 azureuser azureuser   1133 Sep 20  2012 sonnet-91.txt\r\n",
        "-rw-rw---- 1 azureuser azureuser   1110 Sep 20  2012 sonnet-92.txt\r\n",
        "-rw-rw---- 1 azureuser azureuser   1133 Sep 20  2012 sonnet-93.txt\r\n",
        "-rw-rw---- 1 azureuser azureuser   1123 Sep 20  2012 sonnet-94.txt\r\n",
        "-rw-rw---- 1 azureuser azureuser   1125 Sep 20  2012 sonnet-95.txt\r\n",
        "-rw-rw---- 1 azureuser azureuser   1131 Sep 20  2012 sonnet-96.txt\r\n",
        "-rw-rw---- 1 azureuser azureuser   1124 Sep 20  2012 sonnet-97.txt\r\n",
        "-rw-rw---- 1 azureuser azureuser   1126 Sep 20  2012 sonnet-98.txt\r\n",
        "-rw-rw---- 1 azureuser azureuser   1188 Sep 20  2012 sonnet-99.txt\r\n",
        "-rw-rw---- 1 azureuser azureuser   1127 Sep 20  2012 sonnet-9.txt\r\n"
       ]
      }
     ],
     "prompt_number": 4
    },
    {
     "cell_type": "markdown",
     "metadata": {},
     "source": [
      "## Hadoop CLI from IPython Notebook\n",
      "\n",
      "There is no further magic as long as you understand Hadoop CLI and IPython's shell magic separately."
     ]
    },
    {
     "cell_type": "code",
     "collapsed": false,
     "input": [
      "!hadoop"
     ],
     "language": "python",
     "metadata": {},
     "outputs": [
      {
       "output_type": "stream",
       "stream": "stdout",
       "text": [
        "Usage: hadoop [--config confdir] COMMAND\r\n",
        "where COMMAND is one of:\r\n",
        "  namenode -format     format the DFS filesystem\r\n"
       ]
      },
      {
       "output_type": "stream",
       "stream": "stdout",
       "text": [
        "  secondarynamenode    run the DFS secondary namenode\r\n",
        "  namenode             run the DFS namenode\r\n",
        "  datanode             run a DFS datanode\r\n",
        "  dfsadmin             run a DFS admin client\r\n",
        "  mradmin              run a Map-Reduce admin client\r\n",
        "  fsck                 run a DFS filesystem checking utility\r\n",
        "  fs                   run a generic filesystem user client\r\n",
        "  balancer             run a cluster balancing utility\r\n",
        "  fetchdt              fetch a delegation token from the NameNode\r\n",
        "  jobtracker           run the MapReduce job Tracker node\r\n",
        "  pipes                run a Pipes job\r\n",
        "  tasktracker          run a MapReduce task Tracker node\r\n",
        "  historyserver        run job history servers as a standalone daemon\r\n",
        "  job                  manipulate MapReduce jobs\r\n",
        "  queue                get information regarding JobQueues\r\n",
        "  version              print the version\r\n",
        "  jar <jar>            run a jar file\r\n",
        "  distcp <srcurl> <desturl> copy file or directories recursively\r\n",
        "  archive -archiveName NAME -p <parent path> <src>* <dest> create a hadoop archive\r\n",
        "  classpath            prints the class path needed to get the\r\n",
        "                       Hadoop jar and the required libraries\r\n",
        "  daemonlog            get/set the log level for each daemon\r\n",
        " or\r\n",
        "  CLASSNAME            run the class named CLASSNAME\r\n",
        "Most commands print help when invoked w/o parameters.\r\n"
       ]
      }
     ],
     "prompt_number": 5
    },
    {
     "cell_type": "code",
     "collapsed": false,
     "input": [
      "!hadoop dfs -ls /"
     ],
     "language": "python",
     "metadata": {},
     "outputs": [
      {
       "output_type": "stream",
       "stream": "stdout",
       "text": [
        "Found 2 items\r\n",
        "drwxr-xr-x   - azureuser supergroup          0 2014-09-23 11:27 /home\r\n",
        "drwxr-xr-x   - azureuser supergroup          0 2014-09-25 15:01 /user\r\n"
       ]
      }
     ],
     "prompt_number": 6
    },
    {
     "cell_type": "code",
     "collapsed": false,
     "input": [
      "# Let's build a shortcut\n",
      "DFSCMD = 'hadoop dfs'\n",
      "!$DFSCMD -ls "
     ],
     "language": "python",
     "metadata": {},
     "outputs": [
      {
       "output_type": "stream",
       "stream": "stdout",
       "text": [
        "Found 2 items\r\n",
        "-rw-r--r--   3 azureuser supergroup    6460189 2014-09-30 03:43 /user/azureuser/largefile\r\n",
        "drwxr-xr-x   - azureuser supergroup          0 2014-09-30 10:51 /user/azureuser/output\r\n"
       ]
      }
     ],
     "prompt_number": 9
    },
    {
     "cell_type": "code",
     "collapsed": false,
     "input": [
      "# Delete output dir I created before.\n",
      "# Note, you may not have this file.\n",
      "!$DFSCMD -rmr 'output'\n",
      "!$DFSCMD -ls "
     ],
     "language": "python",
     "metadata": {},
     "outputs": [
      {
       "output_type": "stream",
       "stream": "stdout",
       "text": [
        "Deleted hdfs://10.62.154.63:9000/user/azureuser/output"
       ]
      },
      {
       "output_type": "stream",
       "stream": "stdout",
       "text": [
        "\r\n"
       ]
      },
      {
       "output_type": "stream",
       "stream": "stdout",
       "text": [
        "Found 1 items\r\n",
        "-rw-r--r--   3 azureuser supergroup    6460189 2014-09-30 03:43 /user/azureuser/largefile\r\n"
       ]
      }
     ],
     "prompt_number": 11
    },
    {
     "cell_type": "code",
     "collapsed": false,
     "input": [
      "# Run a MapReduce job on hadoop\n",
      "!hadoop jar /home/azureuser/hadoop/hadoop-examples-1.0.3.jar wordcount largefile/ largefile.out"
     ],
     "language": "python",
     "metadata": {},
     "outputs": [
      {
       "output_type": "stream",
       "stream": "stdout",
       "text": [
        "14/10/13 15:21:22 INFO input.FileInputFormat: Total input paths to process : 1\r\n",
        "14/10/13 15:21:22 INFO util.NativeCodeLoader: Loaded the native-hadoop library\r\n",
        "14/10/13 15:21:22 WARN snappy.LoadSnappy: Snappy native library not loaded\r\n"
       ]
      },
      {
       "output_type": "stream",
       "stream": "stdout",
       "text": [
        "14/10/13 15:21:22 INFO mapred.JobClient: Running job: job_201409251520_0010\r\n"
       ]
      },
      {
       "output_type": "stream",
       "stream": "stdout",
       "text": [
        "14/10/13 15:21:23 INFO mapred.JobClient:  map 0% reduce 0%\r\n"
       ]
      },
      {
       "output_type": "stream",
       "stream": "stdout",
       "text": [
        "14/10/13 15:21:56 INFO mapred.JobClient:  map 100% reduce 0%\r\n"
       ]
      },
      {
       "output_type": "stream",
       "stream": "stdout",
       "text": [
        "14/10/13 15:22:14 INFO mapred.JobClient:  map 100% reduce 100%\r\n"
       ]
      },
      {
       "output_type": "stream",
       "stream": "stdout",
       "text": [
        "14/10/13 15:22:19 INFO mapred.JobClient: Job complete: job_201409251520_0010\r\n"
       ]
      },
      {
       "output_type": "stream",
       "stream": "stdout",
       "text": [
        "14/10/13 15:22:19 INFO mapred.JobClient: Counters: 29\r\n",
        "14/10/13 15:22:19 INFO mapred.JobClient:   Job Counters \r\n",
        "14/10/13 15:22:19 INFO mapred.JobClient:     Launched reduce tasks=1\r\n",
        "14/10/13 15:22:19 INFO mapred.JobClient:     SLOTS_MILLIS_MAPS=21031\r\n",
        "14/10/13 15:22:19 INFO mapred.JobClient:     Total time spent by all reduces waiting after reserving slots (ms)=0\r\n",
        "14/10/13 15:22:19 INFO mapred.JobClient:     Total time spent by all maps waiting after reserving slots (ms)=0\r\n",
        "14/10/13 15:22:19 INFO mapred.JobClient:     Launched map tasks=1\r\n",
        "14/10/13 15:22:19 INFO mapred.JobClient:     Data-local map tasks=1\r\n",
        "14/10/13 15:22:19 INFO mapred.JobClient:     SLOTS_MILLIS_REDUCES=14091\r\n",
        "14/10/13 15:22:19 INFO mapred.JobClient:   File Output Format Counters \r\n",
        "14/10/13 15:22:19 INFO mapred.JobClient:     Bytes Written=835072\r\n",
        "14/10/13 15:22:19 INFO mapred.JobClient:   FileSystemCounters\r\n",
        "14/10/13 15:22:19 INFO mapred.JobClient:     FILE_BYTES_READ=2915846\r\n",
        "14/10/13 15:22:19 INFO mapred.JobClient:     HDFS_BYTES_READ=6460303\r\n",
        "14/10/13 15:22:19 INFO mapred.JobClient:     FILE_BYTES_WRITTEN=4073930\r\n",
        "14/10/13 15:22:19 INFO mapred.JobClient:     HDFS_BYTES_WRITTEN=835072\r\n",
        "14/10/13 15:22:19 INFO mapred.JobClient:   File Input Format Counters \r\n",
        "14/10/13 15:22:19 INFO mapred.JobClient:     Bytes Read=6460189\r\n",
        "14/10/13 15:22:19 INFO mapred.JobClient:   Map-Reduce Framework\r\n",
        "14/10/13 15:22:19 INFO mapred.JobClient:     Map output materialized bytes=1114723\r\n",
        "14/10/13 15:22:19 INFO mapred.JobClient:     Map input records=165802\r\n",
        "14/10/13 15:22:19 INFO mapred.JobClient:     Reduce shuffle bytes=0\r\n",
        "14/10/13 15:22:19 INFO mapred.JobClient:     Spilled Records=268548\r\n",
        "14/10/13 15:22:19 INFO mapred.JobClient:     Map output bytes=9577434\r\n",
        "14/10/13 15:22:19 INFO mapred.JobClient:     CPU time spent (ms)=10730\r\n",
        "14/10/13 15:22:19 INFO mapred.JobClient:     Total committed heap usage (bytes)=265093120\r\n",
        "14/10/13 15:22:19 INFO mapred.JobClient:     Combine input records=1127549\r\n",
        "14/10/13 15:22:19 INFO mapred.JobClient:     SPLIT_RAW_BYTES=114\r\n",
        "14/10/13 15:22:19 INFO mapred.JobClient:     Reduce input records=72379\r\n",
        "14/10/13 15:22:19 INFO mapred.JobClient:     Reduce input groups=72379\r\n",
        "14/10/13 15:22:19 INFO mapred.JobClient:     Combine output records=196169\r\n",
        "14/10/13 15:22:19 INFO mapred.JobClient:     Physical memory (bytes) snapshot=325742592\r\n",
        "14/10/13 15:22:19 INFO mapred.JobClient:     Reduce output records=72379\r\n",
        "14/10/13 15:22:19 INFO mapred.JobClient:     Virtual memory (bytes) snapshot=3125719040\r\n",
        "14/10/13 15:22:19 INFO mapred.JobClient:     Map output records=1003759\r\n"
       ]
      }
     ],
     "prompt_number": 12
    },
    {
     "cell_type": "code",
     "collapsed": false,
     "input": [
      "# Check the output\n",
      "!$DFSCMD -ls largefile.out\n",
      "# In order not to clustter the notebook,\n",
      "# we collect the results and only print part of them\n",
      "output = !$DFSCMD -tail largefile.out/part-r-00000\n",
      "print '\\n'.join(output[-5:])"
     ],
     "language": "python",
     "metadata": {},
     "outputs": [
      {
       "output_type": "stream",
       "stream": "stdout",
       "text": [
        "Found 3 items\r\n",
        "-rw-r--r--   3 azureuser supergroup          0 2014-10-13 15:22 /user/azureuser/largefile.out/_SUCCESS\r\n",
        "drwxr-xr-x   - azureuser supergroup          0 2014-10-13 15:21 /user/azureuser/largefile.out/_logs\r\n",
        "-rw-r--r--   3 azureuser supergroup     835072 2014-10-13 15:22 /user/azureuser/largefile.out/part-r-00000\r\n"
       ]
      },
      {
       "output_type": "stream",
       "stream": "stdout",
       "text": [
        "\u2014send\t1\n",
        "\u2014thou\t1\n",
        "\u2014what\t1\n",
        "\u2014with\t1\n",
        "\u2022\t74\n"
       ]
      }
     ],
     "prompt_number": 15
    },
    {
     "cell_type": "code",
     "collapsed": false,
     "input": [
      "!hadoop jar $HADOOP_PREFIX/contrib/streaming/hadoop-streaming-1.0.3.jar -mapper cat -reducer wc -input largefile -output largefile.out2\n",
      "# Had better use:\n",
      "# !hadoop jar $$HADOOP_PREFIX/contrib/streaming/hadoop-streaming-1.0.3.jar -mapper cat -reducer wc -input /bigfile -output /bigfile.out2\n",
      "# This is because \"$\" was interpolated in Python.\n",
      "# To avoid possible pollution from current working space, we use \"$$\" to escape the $-sign."
     ],
     "language": "python",
     "metadata": {},
     "outputs": [
      {
       "output_type": "stream",
       "stream": "stdout",
       "text": [
        "packageJobJar: [/home/azureuser/hadooptmp/hadoop-unjar4691326296498418245/] [] /tmp/streamjob3609909016817848413.jar tmpDir=null\r\n"
       ]
      },
      {
       "output_type": "stream",
       "stream": "stdout",
       "text": [
        "14/10/13 15:25:28 INFO util.NativeCodeLoader: Loaded the native-hadoop library"
       ]
      },
      {
       "output_type": "stream",
       "stream": "stdout",
       "text": [
        "\r\n",
        "14/10/13 15:25:28 WARN snappy.LoadSnappy: Snappy native library not loaded\r\n",
        "14/10/13 15:25:28 INFO mapred.FileInputFormat: Total input paths to process : 1\r\n"
       ]
      },
      {
       "output_type": "stream",
       "stream": "stdout",
       "text": [
        "14/10/13 15:25:28 INFO streaming.StreamJob: getLocalDirs(): [/home/azureuser/hadooptmp/mapred/local]\r\n",
        "14/10/13 15:25:28 INFO streaming.StreamJob: Running job: job_201409251520_0011\r\n",
        "14/10/13 15:25:28 INFO streaming.StreamJob: To kill this job, run:\r\n",
        "14/10/13 15:25:28 INFO streaming.StreamJob: /home/azureuser/hadoop/libexec/../bin/hadoop job  -Dmapred.job.tracker=10.62.154.63:9001 -kill job_201409251520_0011\r\n",
        "14/10/13 15:25:28 INFO streaming.StreamJob: Tracking URL: http://10.62.154.63:50030/jobdetails.jsp?jobid=job_201409251520_0011\r\n"
       ]
      },
      {
       "output_type": "stream",
       "stream": "stdout",
       "text": [
        "14/10/13 15:25:29 INFO streaming.StreamJob:  map 0%  reduce 0%\r\n"
       ]
      },
      {
       "output_type": "stream",
       "stream": "stdout",
       "text": [
        "14/10/13 15:25:44 INFO streaming.StreamJob:  map 100%  reduce 0%\r\n"
       ]
      },
      {
       "output_type": "stream",
       "stream": "stdout",
       "text": [
        "14/10/13 15:25:53 INFO streaming.StreamJob:  map 100%  reduce 33%\r\n"
       ]
      },
      {
       "output_type": "stream",
       "stream": "stdout",
       "text": [
        "14/10/13 15:25:59 INFO streaming.StreamJob:  map 100%  reduce 100%\r\n"
       ]
      },
      {
       "output_type": "stream",
       "stream": "stdout",
       "text": [
        "14/10/13 15:26:05 INFO streaming.StreamJob: Job complete: job_201409251520_0011\r\n",
        "14/10/13 15:26:05 INFO streaming.StreamJob: Output: largefile.out2\r\n"
       ]
      }
     ],
     "prompt_number": 16
    },
    {
     "cell_type": "code",
     "collapsed": false,
     "input": [
      "# The result of \"wc\" command on Hadoop\n",
      "!$DFSCMD -cat largefile.out2/part-00000"
     ],
     "language": "python",
     "metadata": {},
     "outputs": [
      {
       "output_type": "stream",
       "stream": "stdout",
       "text": [
        " 165802 1003759 6625991\t\r\n"
       ]
      }
     ],
     "prompt_number": 17
    },
    {
     "cell_type": "code",
     "collapsed": false,
     "input": [
      "# Let's check by running a wc directly\n",
      "!$DFSCMD -cat largefile | wc \n",
      "!$DFSCMD -copyToLocal largefile largefile2\n",
      "!wc largefile2"
     ],
     "language": "python",
     "metadata": {},
     "outputs": [
      {
       "output_type": "stream",
       "stream": "stdout",
       "text": [
        " 165802 1003759 6460189\r\n"
       ]
      },
      {
       "output_type": "stream",
       "stream": "stdout",
       "text": [
        "copyToLocal: Target largefile2 already exists\r\n"
       ]
      },
      {
       "output_type": "stream",
       "stream": "stdout",
       "text": [
        " 165802 1003759 6460189 largefile2\r\n"
       ]
      }
     ],
     "prompt_number": 23
    },
    {
     "cell_type": "markdown",
     "metadata": {},
     "source": [
      "**EXERCISE**:\n",
      "Investigate what is the difference. And Why."
     ]
    },
    {
     "cell_type": "code",
     "collapsed": false,
     "input": [
      "# Let programmably construct the Hadoop Streaming command-line\n",
      "def construct_streaming_options(mapper, reducer, input, output):\n",
      "    return ' '.join(['-mapper', mapper,\n",
      "                     '-reducer', reducer,\n",
      "                     '-input', input,\n",
      "                     '-output', output])\n",
      "    \n",
      "STREAMINGCMD = 'hadoop jar $HADOOP_PREFIX/contrib/streaming/hadoop-streaming-1.0.3.jar'\n",
      "options = construct_streaming_options('cat', 'wc', 'largefile', 'largefile.out3')\n",
      "print 'STREAMINGCMD:', STREAMINGCMD\n",
      "print 'options:', options\n",
      "!$STREAMINGCMD $options\n",
      "!$DFSCMD -ls largefile.out3"
     ],
     "language": "python",
     "metadata": {},
     "outputs": [
      {
       "output_type": "stream",
       "stream": "stdout",
       "text": [
        "STREAMINGCMD: hadoop jar $HADOOP_PREFIX/contrib/streaming/hadoop-streaming-1.0.3.jar\n",
        "options: -mapper cat -reducer wc -input largefile -output largefile.out3\n"
       ]
      },
      {
       "output_type": "stream",
       "stream": "stdout",
       "text": [
        "packageJobJar: [/home/azureuser/hadooptmp/hadoop-unjar1070224149882522530/] [] /tmp/streamjob6941772224846745313.jar tmpDir=null\r\n"
       ]
      },
      {
       "output_type": "stream",
       "stream": "stdout",
       "text": [
        "14/10/13 15:43:31 INFO util.NativeCodeLoader: Loaded the native-hadoop library\r\n",
        "14/10/13 15:43:31 WARN snappy.LoadSnappy: Snappy native library not loaded\r\n",
        "14/10/13 15:43:31 INFO mapred.FileInputFormat: Total input paths to process : 1\r\n"
       ]
      },
      {
       "output_type": "stream",
       "stream": "stdout",
       "text": [
        "14/10/13 15:43:31 INFO streaming.StreamJob: getLocalDirs(): [/home/azureuser/hadooptmp/mapred/local]\r\n",
        "14/10/13 15:43:31 INFO streaming.StreamJob: Running job: job_201409251520_0012\r\n",
        "14/10/13 15:43:31 INFO streaming.StreamJob: To kill this job, run:\r\n",
        "14/10/13 15:43:31 INFO streaming.StreamJob: /home/azureuser/hadoop/libexec/../bin/hadoop job  -Dmapred.job.tracker=10.62.154.63:9001 -kill job_201409251520_0012\r\n",
        "14/10/13 15:43:31 INFO streaming.StreamJob: Tracking URL: http://10.62.154.63:50030/jobdetails.jsp?jobid=job_201409251520_0012\r\n"
       ]
      },
      {
       "output_type": "stream",
       "stream": "stdout",
       "text": [
        "14/10/13 15:43:32 INFO streaming.StreamJob:  map 0%  reduce 0%\r\n"
       ]
      },
      {
       "output_type": "stream",
       "stream": "stdout",
       "text": [
        "14/10/13 15:43:50 INFO streaming.StreamJob:  map 100%  reduce 0%\r\n"
       ]
      },
      {
       "output_type": "stream",
       "stream": "stdout",
       "text": [
        "14/10/13 15:43:59 INFO streaming.StreamJob:  map 100%  reduce 33%\r\n"
       ]
      },
      {
       "output_type": "stream",
       "stream": "stdout",
       "text": [
        "14/10/13 15:44:05 INFO streaming.StreamJob:  map 100%  reduce 100%\r\n"
       ]
      },
      {
       "output_type": "stream",
       "stream": "stdout",
       "text": [
        "14/10/13 15:44:11 INFO streaming.StreamJob: Job complete: job_201409251520_0012\r\n",
        "14/10/13 15:44:11 INFO streaming.StreamJob: Output: largefile.out3\r\n"
       ]
      },
      {
       "output_type": "stream",
       "stream": "stdout",
       "text": [
        "Found 3 items\r\n",
        "-rw-r--r--   3 azureuser supergroup          0 2014-10-13 15:44 /user/azureuser/largefile.out3/_SUCCESS\r\n",
        "drwxr-xr-x   - azureuser supergroup          0 2014-10-13 15:43 /user/azureuser/largefile.out3/_logs\r\n",
        "-rw-r--r--   3 azureuser supergroup         25 2014-10-13 15:43 /user/azureuser/largefile.out3/part-00000\r\n"
       ]
      }
     ],
     "prompt_number": 24
    },
    {
     "cell_type": "markdown",
     "metadata": {},
     "source": [
      "## MRJob\n",
      "\n",
      "`mrjob` is well documented.\n",
      "See the docs for more information: http://mrjob.readthedocs.org/en/latest/\n",
      "\n",
      "To get started, install with pip:\n",
      "```\n",
      "sudo pip install mrjob\n",
      "```\n",
      "\n",
      "The general workflow of `mrjob`:\n",
      "\n",
      "   * Write you job as a Python class, which provides `mapper`, `combiner` and `reducer`.\n",
      "   * `python myjob.py <input>` to test it locally.\n",
      "   * `python myjob.py -r hadoop <input>` to run on Hadoop.\n",
      "   * `python myjob.py -r hadoop hdfs://path/to/your/input/ --output-dir hdfs://path/to/your/output/` \n",
      "   to use files HDFS.\n",
      "   \n",
      "`mrjob` wraps Hadoop Streaming to take care of some I/O details.\n",
      "So the code is very concise, looking like pseudo-code.\n",
      "It's easy to programmably construct `mrjob` command lines.\n",
      "Just refer to the above streaming example.\n",
      "Since `mrjob` provides its own runner, we demonstrate it in the following cells.\n",
      "\n",
      "**NOTE**:\n",
      "The interface is in a generator style.\n",
      "[further read](http://www.dabeaz.com/generators/index.html)."
     ]
    },
    {
     "cell_type": "code",
     "collapsed": false,
     "input": [
      "%%file wordcountjob.py\n",
      "from mrjob.job import MRJob\n",
      "import re\n",
      "\n",
      "WORD_RE = re.compile(r\"[\\w']+\")\n",
      "\n",
      "class MRWordFreqCount(MRJob):\n",
      "\n",
      "    def mapper(self, _, line):\n",
      "        for word in WORD_RE.findall(line):\n",
      "            yield (word.lower(), 1)\n",
      "\n",
      "    def combiner(self, word, counts):\n",
      "        yield (word, sum(counts))\n",
      "\n",
      "    def reducer(self, word, counts):\n",
      "        yield (word, sum(counts))\n",
      "\n",
      "if __name__ == '__main__':\n",
      "    MRWordFreqCount.run()"
     ],
     "language": "python",
     "metadata": {},
     "outputs": [
      {
       "output_type": "stream",
       "stream": "stdout",
       "text": [
        "Overwriting wordcountjob.py\n"
       ]
      }
     ],
     "prompt_number": 1
    },
    {
     "cell_type": "code",
     "collapsed": false,
     "input": [
      "# Note the above \"%%file\" magic will really write this file when executed.\n",
      "# Be careful not to override your work..\n",
      "!ls -l wordcountjob.py"
     ],
     "language": "python",
     "metadata": {},
     "outputs": [
      {
       "output_type": "stream",
       "stream": "stdout",
       "text": [
        "-rw-rw-r-- 1 azureuser azureuser 411 Oct 13 15:52 wordcountjob.py\r\n"
       ]
      }
     ],
     "prompt_number": 2
    },
    {
     "cell_type": "code",
     "collapsed": false,
     "input": [
      "from wordcountjob import MRWordFreqCount\n",
      "job = MRWordFreqCount(args=['-r', 'hadoop',                         # Specify \"hadoop\" as the backend\n",
      "                                                                    #     (Can be \"local\" or \"emr\")\n",
      "                            'hdfs:///user/azureuser/largefile',                      # Equivalent to -input option of Hadoop Streaming\n",
      "                                                                    #     (Can be a local path)\n",
      "                            '--output-dir', 'hdfs:///user/azureuser/largefile.out4', # Equivalent to -output option of Hadoop Streaming\n",
      "                                                                    #     (Can be a local path)\n",
      "                            '--no-output'])\n",
      "runner = job.make_runner()\n",
      "runner.run()"
     ],
     "language": "python",
     "metadata": {},
     "outputs": [],
     "prompt_number": 8
    },
    {
     "cell_type": "code",
     "collapsed": false,
     "input": [
      "lines = runner.stream_output()\n",
      "# Just show you some example output\n",
      "print lines.next()\n",
      "print lines.next()\n",
      "print lines.next()"
     ],
     "language": "python",
     "metadata": {},
     "outputs": [
      {
       "output_type": "stream",
       "stream": "stdout",
       "text": [
        "\"'\"\t1182\n",
        "\n",
        "\"'a\"\t89\n",
        "\n",
        "\"'a'\"\t1\n",
        "\n"
       ]
      }
     ],
     "prompt_number": 9
    },
    {
     "cell_type": "markdown",
     "metadata": {},
     "source": [
      "## Post-processing of the MapReduce Job\n",
      "\n",
      "Let's re-do some of the problems from [homework1](https://course.ie.cuhk.edu.hk/~engg4030/homework/).\n",
      "You will get a feel of the integrated working environment we gradually build up during this semester."
     ]
    },
    {
     "cell_type": "code",
     "collapsed": false,
     "input": [
      "# Get the output and sort.\n",
      "lines = runner.stream_output()\n",
      "sorted_lines = sorted(lines, key=lambda x: int(x.split('\\t')[1]), reverse=True)\n",
      "sorted_lines[:5]"
     ],
     "language": "python",
     "metadata": {},
     "outputs": [
      {
       "metadata": {},
       "output_type": "pyout",
       "prompt_number": 41,
       "text": [
        "['\"i\"\\t904\\n', '\"the\"\\t869\\n', '\"and\"\\t818\\n', '\"to\"\\t663\\n', '\"of\"\\t640\\n']"
       ]
      }
     ],
     "prompt_number": 41
    },
    {
     "cell_type": "markdown",
     "metadata": {},
     "source": [
      "Note, for demo purpose, we sort inside this notebook. In practice (for big data set),\n",
      "\n",
      "   * You may want to sort in Hadoop \n",
      "   and load part of it in IPython Notebook for post-processing/ visualization\n",
      "   * Even if you want to sort locally, partial sort via heap can be a better choice\n",
      "   ( `heapq.nlargest` used in [tutorial10](https://course.ie.cuhk.edu.hk/~engg4030/tutorial/tutorial10/) )"
     ]
    },
    {
     "cell_type": "code",
     "collapsed": false,
     "input": [
      "num_to_plot = 20\n",
      "labels = map(lambda x: x.split('\\t')[0], sorted_lines[:num_to_plot])\n",
      "counts = map(lambda x: int(x.split('\\t')[1]), sorted_lines[:num_to_plot])\n",
      "bar(range(len(counts)), counts)\n",
      "xticks(range(len(counts)), labels, rotation=90)"
     ],
     "language": "python",
     "metadata": {},
     "outputs": [
      {
       "metadata": {},
       "output_type": "pyout",
       "prompt_number": 42,
       "text": [
        "([<matplotlib.axis.XTick at 0x4847fd0>,\n",
        "  <matplotlib.axis.XTick at 0x4847e90>,\n",
        "  <matplotlib.axis.XTick at 0x40eb110>,\n",
        "  <matplotlib.axis.XTick at 0x40eb710>,\n",
        "  <matplotlib.axis.XTick at 0x40ebd90>,\n",
        "  <matplotlib.axis.XTick at 0x40e5450>,\n",
        "  <matplotlib.axis.XTick at 0x45dc890>,\n",
        "  <matplotlib.axis.XTick at 0x45c4190>,\n",
        "  <matplotlib.axis.XTick at 0x45c4810>,\n",
        "  <matplotlib.axis.XTick at 0x45c4e90>,\n",
        "  <matplotlib.axis.XTick at 0x45bb550>,\n",
        "  <matplotlib.axis.XTick at 0x45bbbd0>,\n",
        "  <matplotlib.axis.XTick at 0x45d0290>,\n",
        "  <matplotlib.axis.XTick at 0x45d0910>,\n",
        "  <matplotlib.axis.XTick at 0x45d0f90>,\n",
        "  <matplotlib.axis.XTick at 0x45b9650>,\n",
        "  <matplotlib.axis.XTick at 0x45b9cd0>,\n",
        "  <matplotlib.axis.XTick at 0x4a3f390>,\n",
        "  <matplotlib.axis.XTick at 0x4a3fa10>,\n",
        "  <matplotlib.axis.XTick at 0x4a420d0>],\n",
        " <a list of 20 Text xticklabel objects>)"
       ]
      },
      {
       "metadata": {},
       "output_type": "display_data",
       "png": "[encoded data removed]",
       "text": [
        "<matplotlib.figure.Figure at 0x48495d0>"
       ]
      }
     ],
     "prompt_number": 42
    },
    {
     "cell_type": "code",
     "collapsed": false,
     "input": [
      "# Cut the reference to runner and wait for Garbage Collection.\n",
      "# The destructor of runner will called to cleanup resources.\n",
      "del runner"
     ],
     "language": "python",
     "metadata": {},
     "outputs": [],
     "prompt_number": 43
    },
    {
     "cell_type": "markdown",
     "metadata": {},
     "source": [
      "A better pattern to ensure resource is returned is the `with` statement.\n",
      "\n",
      "```\n",
      "with job.make_runner() as runner:\n",
      "    runner.run()\n",
      "    # Do other things with runner, e.g. get output\n",
      "```"
     ]
    },
    {
     "cell_type": "markdown",
     "metadata": {},
     "source": [
      "**EXERCISE**:\n",
      "Try to construct your own convenient Hadoop workflow in IPython without other libraries like `mrjob`.\n",
      "\n",
      "   * You can use `%%file` magic to maintain mapper and reducer scripts.\n",
      "   * You can use Python string operation to construct the Hadoop CLI options.\n",
      "   * You can pass python variables to shell for the execution.\n",
      "\n",
      "**EXERCISE**:\n",
      "Try to compare other Python bindings in terms of execution efficiency and devlopement efficiency.\n",
      "See references for some pointers.\n",
      "\n",
      "## References\n",
      "\n",
      "   * A [blog post](http://blog.cloudera.com/blog/2013/01/a-guide-to-python-frameworks-for-hadoop/)\n",
      "   from Cloudera to compare different Python bindings.\n",
      "   [(code repo)](https://github.com/cloudera/python-ngrams).\n",
      "   [(examples)](https://github.com/Yelp/mrjob/tree/master/mrjob/examples)."
     ]
    }
   ],
   "metadata": {}
  }
 ]
}
